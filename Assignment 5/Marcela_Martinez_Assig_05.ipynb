{
 "cells": [
  {
   "cell_type": "markdown",
   "metadata": {},
   "source": [
    "# Assignment05\n",
    "\n",
    "Marcela Martinez"
   ]
  },
  {
   "cell_type": "markdown",
   "metadata": {},
   "source": [
    "###### Q1: How many protein records are in UniProt? "
   ]
  },
  {
   "cell_type": "code",
   "execution_count": 2,
   "metadata": {},
   "outputs": [
    {
     "data": {
      "text/html": [
       "<div class=\"krn-spql\"><div class=\"magic\">Endpoint set to: https://sparql.uniprot.org/sparql</div><div class=\"magic\">Request format: JSON</div></div>"
      ],
      "text/plain": [
       "Endpoint set to: https://sparql.uniprot.org/sparql\n",
       "Request format: JSON\n"
      ]
     },
     "metadata": {},
     "output_type": "display_data"
    },
    {
     "data": {
      "text/html": [
       "<div class=\"krn-spql\"><table><tr class=hdr><th>count</th></tr><tr class=odd><td class=val>378979161</td></tr></table><div class=\"tinfo\">Total: 1, Shown: 1</div></div>"
      ]
     },
     "metadata": {},
     "output_type": "display_data"
    }
   ],
   "source": [
    "%endpoint https://sparql.uniprot.org/sparql\n",
    "%format JSON\n",
    "\n",
    "PREFIX core: <http://purl.uniprot.org/core/>\n",
    "SELECT (COUNT(?protein) AS ?count) \n",
    "WHERE\n",
    "{\n",
    "  ?protein a core:Protein .\n",
    "}\n"
   ]
  },
  {
   "cell_type": "markdown",
   "metadata": {},
   "source": [
    "###### Q2: How many Arabidopsis thaliana protein records are in UniProt? "
   ]
  },
  {
   "cell_type": "code",
   "execution_count": 3,
   "metadata": {},
   "outputs": [
    {
     "data": {
      "text/html": [
       "<div class=\"krn-spql\"><div class=\"magic\">Endpoint set to: https://sparql.uniprot.org/sparql</div><div class=\"magic\">Request format: JSON</div></div>"
      ],
      "text/plain": [
       "Endpoint set to: https://sparql.uniprot.org/sparql\n",
       "Request format: JSON\n"
      ]
     },
     "metadata": {},
     "output_type": "display_data"
    },
    {
     "data": {
      "text/html": [
       "<div class=\"krn-spql\"><table><tr class=hdr><th>count</th></tr><tr class=odd><td class=val>136447</td></tr></table><div class=\"tinfo\">Total: 1, Shown: 1</div></div>"
      ]
     },
     "metadata": {},
     "output_type": "display_data"
    }
   ],
   "source": [
    "%endpoint https://sparql.uniprot.org/sparql\n",
    "%format JSON\n",
    "\n",
    "PREFIX core:<http://purl.uniprot.org/core/>\n",
    "PREFIX taxon:<http://purl.uniprot.org/taxonomy/>\n",
    "SELECT (COUNT(?protein) AS ?count) \n",
    "WHERE{\n",
    "?protein a core:Protein . \n",
    "?protein core:organism taxon:3702 . \n",
    "}  \n"
   ]
  },
  {
   "cell_type": "markdown",
   "metadata": {},
   "source": [
    "###### Q3: retrieve pictures of Arabidopsis thaliana from UniProt?"
   ]
  },
  {
   "cell_type": "code",
   "execution_count": 4,
   "metadata": {},
   "outputs": [
    {
     "data": {
      "text/html": [
       "<div class=\"krn-spql\"><div class=\"magic\">Endpoint set to: https://sparql.uniprot.org/sparql</div><div class=\"magic\">Request format: JSON</div></div>"
      ],
      "text/plain": [
       "Endpoint set to: https://sparql.uniprot.org/sparql\n",
       "Request format: JSON\n"
      ]
     },
     "metadata": {},
     "output_type": "display_data"
    },
    {
     "data": {
      "text/html": [
       "<div class=\"krn-spql\"><table><tr class=hdr><th>name</th>\n",
       "<th>image</th></tr><tr class=odd><td class=val>Arabidopsis thaliana</td>\n",
       "<td class=val><a href=\"https://upload.wikimedia.org/wikipedia/commons/3/39/Arabidopsis.jpg\" target=\"_other\">https://upload.wikimedia.org/wikipedia/commons/3/39/Arabidopsis.jpg</a></td></tr><tr class=even><td class=val>Arabidopsis thaliana</td>\n",
       "<td class=val><a href=\"https://upload.wikimedia.org/wikipedia/commons/thumb/6/60/Arabidopsis_thaliana_inflorescencias.jpg/800px-Arabidopsis_thaliana_inflorescencias.jpg\" target=\"_other\">https://upload.wikimedia.org/wikipedia/commons/thumb/6/60/Arabidopsis_thaliana_inflorescencias.jpg/800px-Arabidopsis_thaliana_inflorescencias.jpg</a></td></tr></table><div class=\"tinfo\">Total: 2, Shown: 2</div></div>"
      ]
     },
     "metadata": {},
     "output_type": "display_data"
    }
   ],
   "source": [
    "%endpoint https://sparql.uniprot.org/sparql\n",
    "%format JSON\n",
    "\n",
    "PREFIX up:<http://purl.uniprot.org/core/>\n",
    "PREFIX foaf:<http://xmlns.com/foaf/0.1/>\n",
    "SELECT ?name ?image\n",
    "WHERE {\n",
    "?taxon foaf:depiction ?image .\n",
    "?taxon up:scientificName ?name .\n",
    "FILTER(CONTAINS(?name, \"Arabidopsis thaliana\")) #not limit was included as only 2 pictures were retrieved\n",
    "}\n"
   ]
  },
  {
   "cell_type": "markdown",
   "metadata": {},
   "source": [
    "###### Q4:What is the description of the enzyme activity of UniProt Protein Q9SZZ8? "
   ]
  },
  {
   "cell_type": "code",
   "execution_count": 18,
   "metadata": {},
   "outputs": [
    {
     "data": {
      "text/html": [
       "<div class=\"krn-spql\"><div class=\"magic\">Endpoint set to: https://sparql.uniprot.org/sparql</div><div class=\"magic\">Request format: JSON</div></div>"
      ],
      "text/plain": [
       "Endpoint set to: https://sparql.uniprot.org/sparql\n",
       "Request format: JSON\n"
      ]
     },
     "metadata": {},
     "output_type": "display_data"
    },
    {
     "data": {
      "text/html": [
       "<div class=\"krn-spql\"><table><tr class=hdr><th>description</th></tr><tr class=odd><td class=val>all-trans-beta-carotene + 4 H(+) + 2 O2 + 4 reduced [2Fe-2S]-[ferredoxin] = all-trans-zeaxanthin + 2 H2O + 4 oxidized [2Fe-2S]-[ferredoxin].</td></tr></table><div class=\"tinfo\">Total: 1, Shown: 1</div></div>"
      ]
     },
     "metadata": {},
     "output_type": "display_data"
    }
   ],
   "source": [
    "%endpoint https://sparql.uniprot.org/sparql\n",
    "%format JSON\n",
    "\n",
    "PREFIX core:<http://purl.uniprot.org/core/>\n",
    "PREFIX ids: <http://purl.uniprot.org/uniprot/>\n",
    "SELECT ?description\n",
    "WHERE {\n",
    "ids:Q9SZZ8 <http://purl.uniprot.org/core/enzyme> ?enzyme .\n",
    "?enzyme core:activity?activity .\n",
    "?activity rdfs:label ?description    \n",
    "} \n"
   ]
  },
  {
   "cell_type": "markdown",
   "metadata": {},
   "source": [
    "###### Q5: Retrieve the proteins ids, and date of submission, for 5 proteins that have been added to UniProt this year  "
   ]
  },
  {
   "cell_type": "code",
   "execution_count": 23,
   "metadata": {},
   "outputs": [
    {
     "data": {
      "text/html": [
       "<div class=\"krn-spql\"><div class=\"magic\">Endpoint set to: https://sparql.uniprot.org/sparql</div><div class=\"magic\">Request format: JSON</div></div>"
      ],
      "text/plain": [
       "Endpoint set to: https://sparql.uniprot.org/sparql\n",
       "Request format: JSON\n"
      ]
     },
     "metadata": {},
     "output_type": "display_data"
    },
    {
     "data": {
      "text/html": [
       "<div class=\"krn-spql\"><table><tr class=hdr><th>protein</th>\n",
       "<th>name</th>\n",
       "<th>date</th></tr><tr class=odd><td class=val><a href=\"http://purl.uniprot.org/uniprot/P55933\" target=\"_other\">http://purl.uniprot.org/uniprot/P55933</a></td>\n",
       "<td class=val>Probable cyclin-dependent kinases regulatory subunit</td>\n",
       "<td class=val>2022-01-01</td></tr><tr class=even><td class=val><a href=\"http://purl.uniprot.org/uniprot/B0G102\" target=\"_other\">http://purl.uniprot.org/uniprot/B0G102</a></td>\n",
       "<td class=val>Cyclin-dependent kinases regulatory subunit</td>\n",
       "<td class=val>2022-01-01</td></tr><tr class=odd><td class=val><a href=\"http://purl.uniprot.org/uniprot/O15818\" target=\"_other\">http://purl.uniprot.org/uniprot/O15818</a></td>\n",
       "<td class=val>Clustered mitochondria protein homolog</td>\n",
       "<td class=val>2022-01-01</td></tr><tr class=even><td class=val><a href=\"http://purl.uniprot.org/uniprot/O21042\" target=\"_other\">http://purl.uniprot.org/uniprot/O21042</a></td>\n",
       "<td class=val>Cytochrome c oxidase subunit 1+2</td>\n",
       "<td class=val>2022-01-01</td></tr><tr class=odd><td class=val><a href=\"http://purl.uniprot.org/uniprot/O21049\" target=\"_other\">http://purl.uniprot.org/uniprot/O21049</a></td>\n",
       "<td class=val>Cytochrome c oxidase subunit 3</td>\n",
       "<td class=val>2022-01-01</td></tr></table><div class=\"tinfo\">Total: 5, Shown: 5</div></div>"
      ]
     },
     "metadata": {},
     "output_type": "display_data"
    }
   ],
   "source": [
    "%endpoint https://sparql.uniprot.org/sparql\n",
    "%format JSON\n",
    "\n",
    "PREFIX core: <http://purl.uniprot.org/core/>\n",
    "PREFIX rdfs: <http://www.w3.org/2000/01/rdf-schema#>\n",
    "SELECT ?protein ?name ?date\n",
    "WHERE\n",
    "{\n",
    "        ?protein a core:Protein .\n",
    "        ?protein core:recommendedName ?recommended .\n",
    "        ?recommended core:fullName ?name .\n",
    "        ?s ?p ?date . FILTER( ?date >= xsd:date(\"2022-01-01\") && ?date < xsd:date(\"2022-12-30\") && (str(?p) != str(rdfs:label)) )\n",
    "  }  \n",
    "LIMIT 5\n"
   ]
  },
  {
   "cell_type": "markdown",
   "metadata": {},
   "source": [
    "###### Q6: How  many species are in the UniProt taxonomy?"
   ]
  },
  {
   "cell_type": "code",
   "execution_count": 24,
   "metadata": {},
   "outputs": [
    {
     "data": {
      "text/html": [
       "<div class=\"krn-spql\"><div class=\"magic\">Endpoint set to: https://sparql.uniprot.org/sparql</div><div class=\"magic\">Request format: JSON</div></div>"
      ],
      "text/plain": [
       "Endpoint set to: https://sparql.uniprot.org/sparql\n",
       "Request format: JSON\n"
      ]
     },
     "metadata": {},
     "output_type": "display_data"
    },
    {
     "data": {
      "text/html": [
       "<div class=\"krn-spql\"><table><tr class=hdr><th>count</th></tr><tr class=odd><td class=val>1995728</td></tr></table><div class=\"tinfo\">Total: 1, Shown: 1</div></div>"
      ]
     },
     "metadata": {},
     "output_type": "display_data"
    }
   ],
   "source": [
    "%endpoint https://sparql.uniprot.org/sparql\n",
    "%format JSON\n",
    "\n",
    "PREFIX core: <http://purl.uniprot.org/core/>\n",
    "PREFIX taxon: <http://sparql.uniprot.org/taxonomy>\n",
    "SELECT (COUNT(?species) AS ?count)\n",
    "WHERE\n",
    "{\n",
    "?species a core:Taxon .\n",
    "?species core:rank core:Species  .\n",
    "}\n",
    "\n"
   ]
  },
  {
   "cell_type": "markdown",
   "metadata": {},
   "source": [
    "###### Q7: How many species have at least one protein record? (this might take a long time to execute, so do this one last!)"
   ]
  },
  {
   "cell_type": "code",
   "execution_count": 3,
   "metadata": {},
   "outputs": [
    {
     "data": {
      "text/html": [
       "<div class=\"krn-spql\"><div class=\"magic\">Endpoint set to: https://sparql.uniprot.org/sparql</div><div class=\"magic\">Request format: JSON</div></div>"
      ],
      "text/plain": [
       "Endpoint set to: https://sparql.uniprot.org/sparql\n",
       "Request format: JSON\n"
      ]
     },
     "metadata": {},
     "output_type": "display_data"
    },
    {
     "data": {
      "text/html": [
       "<div class=\"krn-spql\"><table><tr class=hdr><th>count</th></tr><tr class=odd><td class=val>1078469</td></tr></table><div class=\"tinfo\">Total: 1, Shown: 1</div></div>"
      ]
     },
     "metadata": {},
     "output_type": "display_data"
    }
   ],
   "source": [
    "%endpoint https://sparql.uniprot.org/sparql\n",
    "%format JSON\n",
    "\n",
    "PREFIX core: <http://purl.uniprot.org/core/>\n",
    "PREFIX taxon: <http://sparql.uniprot.org/taxonomy>\n",
    "SELECT (COUNT(DISTINCT ?species) AS ?count)\n",
    "WHERE\n",
    "{\n",
    "?protein a core:Protein .\n",
    "?protein core:organism ?species .\n",
    "?species a core:Taxon .\n",
    "?species core:rank core:Species  .\n",
    "}\n"
   ]
  },
  {
   "cell_type": "markdown",
   "metadata": {},
   "source": [
    "###### Q8: Find the AGI codes and gene names for all Arabidopsis thaliana  proteins that have a protein function annotation description that mentions “pattern formation”"
   ]
  },
  {
   "cell_type": "code",
   "execution_count": 2,
   "metadata": {},
   "outputs": [
    {
     "data": {
      "text/html": [
       "<div class=\"krn-spql\"><div class=\"magic\">Endpoint set to: https://sparql.uniprot.org/sparql</div><div class=\"magic\">Request format: JSON</div></div>"
      ],
      "text/plain": [
       "Endpoint set to: https://sparql.uniprot.org/sparql\n",
       "Request format: JSON\n"
      ]
     },
     "metadata": {},
     "output_type": "display_data"
    },
    {
     "data": {
      "text/html": [
       "<div class=\"krn-spql\"><table><tr class=hdr><th>agi_code</th>\n",
       "<th>name</th>\n",
       "<th>function_annotation</th></tr><tr class=odd><td class=val>At1g13980</td>\n",
       "<td class=val>GN</td>\n",
       "<td class=val>Activates the ARF proteins by exchanging bound GDP for free GTP. Plays a role in vesicular protein sorting. Acts as the major regulator of endosomal vesicle trafficking but is also involved in the endocytosis process. Could function redundantly with GNL1 in the retrograde Golgi to endoplasmic reticulum trafficking. Regulates vesicle trafficking required for the coordinated polar localization of auxin efflux carriers which in turn determines the direction of auxin flow. Mediates the sorting of PIN1 from endosomal compartments to the basal plasma membrane and the polarization of PIN3 to the bottom side of hypocotyl endodermal cells. Involved in the specification of apical-basal pattern formation in the early embryo and during root formation. Required for correct cell wall organization leading to normal cell adhesion during seedling development. Also plays an essential role in hydrotropism of seedling roots.</td></tr><tr class=even><td class=val>At3g02130</td>\n",
       "<td class=val>RPK2</td>\n",
       "<td class=val>Key regulator of anther development (e.g. lignification pattern), including tapetum degradation during pollen maturation (e.g. germination capacity). Together with RPK1, required for pattern formation along the radial axis (e.g. the apical embryonic domain cell types that generate cotyledon primordia), and the apical-basal axis (e.g. differentiation of the basal pole during early embryogenesis).</td></tr><tr class=odd><td class=val>At1g69270</td>\n",
       "<td class=val>RPK1</td>\n",
       "<td class=val>Involved in the main abscisic acid-mediated (ABA) signaling pathway and in early ABA perception. Together with RPK2, required for pattern formation along the radial axis (e.g. the apical embryonic domain cell types that generate cotyledon primordia), and the apical-basal axis (e.g. differentiation of the basal pole during early embryogenesis).</td></tr><tr class=even><td class=val>At5g37800</td>\n",
       "<td class=val>RSL1</td>\n",
       "<td class=val>Transcription factor that is specifically required for the development of root hairs (PubMed:17556585). Acts with RHD6 to positively regulate root hair development (PubMed:17556585). Acts downstream of genes that regulate epidermal pattern formation, such as GL2 (PubMed:17556585). Acts with RHD6 as transcription factor that integrates a jasmonate (JA) signaling pathway that stimulates root hair growth (PubMed:31988260).</td></tr><tr class=odd><td class=val>At1g26830</td>\n",
       "<td class=val>CUL3A</td>\n",
       "<td class=val>Component of the cullin-RING ubiquitin ligases (CRL), or CUL3-RBX1-BTB protein E3 ligase complexes which mediate the ubiquitination and subsequent proteasomal degradation of target proteins. The functional specificity of the CRL complex depends on the BTB domain-containing protein as the susbstrate recognition component. Involved in embryo pattern formation and endosperm development. Required for the normal division and organization of the root stem cells and columella root cap cells. Regulates primary root growth by an unknown pathway, but in an ethylene-dependent manner. Functions in distal root patterning, by an ethylene-independent mechanism. Functionally redundant with CUL3B.</td></tr><tr class=even><td class=val>At1g66470</td>\n",
       "<td class=val>RHD6</td>\n",
       "<td class=val>Transcription factor that is specifically required for the development of root hairs (PubMed:17556585). Acts with RSL1 to positively regulate root hair development (PubMed:17556585). Acts downstream of genes that regulate epidermal pattern formation, such as GL2 (PubMed:17556585). Targets directly RSL4, another transcription factor involved in the regulation of root hair elongation (PubMed:20139979). Acts with RSL1 as transcription factor that integrates a jasmonate (JA) signaling pathway that stimulates root hair growth (PubMed:31988260).</td></tr><tr class=odd><td class=val>At3g09090</td>\n",
       "<td class=val>DEX1</td>\n",
       "<td class=val>Required for exine pattern formation during pollen development, especially for primexine deposition.</td></tr><tr class=even><td class=val>At5g55250</td>\n",
       "<td class=val>IAMT1</td>\n",
       "<td class=val>Catalyzes the methylation of the free carboxyl end of the plant hormone indole-3-acetic acid (IAA). Converts IAA to IAA methyl ester (MeIAA). Regulates IAA activities by IAA methylation. Methylation of IAA plays an important role in regulating plant development and auxin homeostasis. Required for correct leaf pattern formation. MeIAA seems to be an inactive form of IAA.</td></tr><tr class=odd><td class=val>At1g63700</td>\n",
       "<td class=val>YDA</td>\n",
       "<td class=val>Functions in a MAP kinase cascade that acts as a molecular switch to regulate the first cell fate decisions in the zygote and the early embryo. Promotes elongation of the zygote and development of its basal daughter cell into the extra-embryonic suspensor. In stomatal development, acts downstream of the LRR receptor TMM, but upstream of the MKK4/MKK5-MPK3/MPK6 module to regulate stomatal cell fate before the guard mother cell (GMC) is specified. Plays a central role in both guard cell identity and pattern formation. This MAPK cascade also functions downstream of the ER receptor in regulating coordinated local cell proliferation, which shapes the morphology of plant organs. Upon brassinosteroid signaling, is inhibited by phosphorylation of its auto-inhibitory N-terminal domain by the GSK3-like kinase ASK7.</td></tr><tr class=even><td class=val>At4g21750</td>\n",
       "<td class=val>ATML1</td>\n",
       "<td class=val>Probable transcription factor involved in cell specification and pattern formation during embryogenesis. Binds to the L1 box DNA sequence 5'-TAAATG[CT]A-3'. Plays a role in maintaining the identity of L1 cells, possibly by interacting with their L1 box or other target-gene promoters; binds to the LIP1 gene promoter and stimulates its expression upon imbibition (PubMed:24989044). Acts as a positive regulator of gibberellins (GAs)-regulated epidermal gene expression (e.g. LIP1, LIP2, LTP1, FDH and PDF1) (PubMed:24989044). Functionally redundant to PDF2 (PubMed:24989044). Seems to promote cell differentiation (PubMed:25564655).</td></tr><tr class=odd><td class=val>At1g69670</td>\n",
       "<td class=val>CUL3B</td>\n",
       "<td class=val>Component of the cullin-RING ubiquitin ligases (CRL), or CUL3-RBX1-BTB protein E3 ligase complexes which mediate the ubiquitination and subsequent proteasomal degradation of target proteins. The functional specificity of the CRL complex depends on the BTB domain-containing protein as the susbstrate recognition component. Involved in embryo pattern formation and endosperm development. Required for the normal division and organization of the root stem cells and columella root cap cells. Regulates primary root growth by an unknown pathway, but in an ethylene-dependent manner. Functions in distal root patterning, by an ethylene-independent mechanism. Functionally redundant with CUL3A.</td></tr><tr class=even><td class=val>At5g02010</td>\n",
       "<td class=val>ROPGEF7</td>\n",
       "<td class=val>Guanine-nucleotide exchange factor (GEF) that acts as an activator of Rop (Rho of plants) GTPases by promoting the exchange of GDP for GTP. In postembryonic roots, modulates root stem cell maintenance by regulating the expression of PLT1 and PLT2, which are key transcription factors that mediate the patterning of the root stem cell niche. May connect RopGEF-regulated Rac/Rop signaling and auxin-dependent PLT-regulated root pattern formation.</td></tr><tr class=odd><td class=val>At4g37650</td>\n",
       "<td class=val>SHR</td>\n",
       "<td class=val>Transcription factor required for quiescent center cells specification and maintenance of surrounding stem cells, and for the asymmetric cell division involved in radial pattern formation in roots. Essential for both cell division and cell specification. Regulates the radial organization of the shoot axial organs and is required for normal shoot gravitropism. Directly controls the transcription of SCR, and when associated with SCR, of MGP, RLK, TRI, NUC and SCL3.</td></tr><tr class=even><td class=val>At3g54220</td>\n",
       "<td class=val>SCR</td>\n",
       "<td class=val>Transcription factor required for quiescent center cells specification and maintenance of surrounding stem cells, and for the asymmetric cell division involved in radial pattern formation in roots. Essential for cell division but not differentiation of the ground tissue. Also required for normal shoot gravitropism. Regulates the radial organization of the shoot axial organs. Binds to the promoter of MGP, NUC, RLK and SCL3. Restricts SHR movment and sequesters it into the nucleus of the endodermis.</td></tr><tr class=odd><td class=val>At2g46710</td>\n",
       "<td class=val>ROPGAP3</td>\n",
       "<td class=val>Acts as a GTPase activator for the Rac-type GTPase by converting it to an inactive GDP-bound state. Involved in secondary wall pattern formation. In association with ROPGEF4, mediates local activation of ARAC10/ROP11 to initiate the distinct pattern of secondary cell walls in xylem cells.</td></tr><tr class=even><td class=val>At2g42580</td>\n",
       "<td class=val>TTL3</td>\n",
       "<td class=val>Involved in osmotic and salt stress tolerance. May play a role in the control of meristematic cell size during osmotic stress. May function as an adapter protein for BRL2 and may be required for signaling affecting leaf vascular tissue pattern formation.</td></tr><tr class=odd><td class=val>At5g40260</td>\n",
       "<td class=val>SWEET8</td>\n",
       "<td class=val>Mediates both low-affinity uptake and efflux of sugar across the plasma membrane. Required, in pollen, for microspore cell integrity and primexine pattern formation (PubMed:18434608, PubMed:25988582).</td></tr></table><div class=\"tinfo\">Total: 17, Shown: 17</div></div>"
      ]
     },
     "metadata": {},
     "output_type": "display_data"
    }
   ],
   "source": [
    "%endpoint https://sparql.uniprot.org/sparql\n",
    "%format JSON\n",
    "\n",
    "PREFIX up: <http://purl.uniprot.org/core/>\n",
    "PREFIX taxon: <http://purl.uniprot.org/taxonomy/>\n",
    "PREFIX skos: <http://www.w3.org/2004/02/skos/core#>\n",
    "PREFIX rdfs: <http://www.w3.org/2000/01/rdf-schema#>\n",
    "SELECT ?agi_code ?name ?function_annotation\n",
    "WHERE\n",
    "{\n",
    "        ?protein a up:Protein . \n",
    "        ?protein up:organism taxon:3702 .\n",
    "        ?protein up:encodedBy ?gene . \n",
    "          ?gene up:locusName ?agi_code .\n",
    "        ?gene skos:prefLabel ?name . \n",
    "        ?protein up:annotation ?annotation .\n",
    "        ?annotation a up:Function_Annotation .\n",
    "        ?annotation rdfs:comment ?function_annotation\t.\n",
    "        FILTER(CONTAINS(?function_annotation,'pattern formation'))\n",
    "\n",
    "}\n"
   ]
  },
  {
   "cell_type": "markdown",
   "metadata": {},
   "source": [
    "###### Q9: what is the MetaNetX Reaction identifier (starts with “mnxr”) for the UniProt Protein uniprotkb:Q18A79\n",
    "\n",
    "There is change here in the endpoint, to ttps://rdf.metanetx.org/sparql"
   ]
  },
  {
   "cell_type": "code",
   "execution_count": 1,
   "metadata": {},
   "outputs": [
    {
     "data": {
      "text/html": [
       "<div class=\"krn-spql\"><div class=\"magic\">Endpoint set to: https://rdf.metanetx.org/sparql</div><div class=\"magic\">Request format: JSON</div></div>"
      ],
      "text/plain": [
       "Endpoint set to: https://rdf.metanetx.org/sparql\n",
       "Request format: JSON\n"
      ]
     },
     "metadata": {},
     "output_type": "display_data"
    },
    {
     "data": {
      "text/html": [
       "<div class=\"krn-spql\"><table><tr class=hdr><th>reac_label</th></tr><tr class=odd><td class=val>mnxr145046c3</td></tr><tr class=even><td class=val>mnxr165934</td></tr></table><div class=\"tinfo\">Total: 2, Shown: 2</div></div>"
      ]
     },
     "metadata": {},
     "output_type": "display_data"
    }
   ],
   "source": [
    "%endpoint https://rdf.metanetx.org/sparql\n",
    "%format JSON\n",
    "\n",
    "PREFIX mnx: <https://rdf.metanetx.org/schema/>\n",
    "PREFIX up: <http://purl.uniprot.org/uniprot/>\n",
    "SELECT DISTINCT ?reac_label \n",
    "WHERE{\n",
    "    ?pept mnx:peptXref up:Q18A79 .\n",
    "    ?cata mnx:pept ?pept ;\n",
    "          rdfs:label ?cata_label .\n",
    "    ?gpr mnx:cata ?cata ;\n",
    "         mnx:reac ?reac .\n",
    "    ?reac rdfs:label ?reac_label ;\n",
    "          rdfs:comment ?reac_eq .\n",
    "    OPTIONAL{ ?reac mnx:mnxr ?MNXR }\n",
    "}\n"
   ]
  },
  {
   "cell_type": "markdown",
   "metadata": {},
   "source": [
    "###### FEDERATED QUERY - UniProt and MetaNetX\n",
    "\n",
    "Q10: What is the official locus name, and the MetaNetX Reaction identifier (mnxr…..) for the protein that has “glycine reductase” catalytic activity in Clostridium difficile (taxon 272563).   \n"
   ]
  },
  {
   "cell_type": "code",
   "execution_count": 81,
   "metadata": {},
   "outputs": [
    {
     "data": {
      "text/html": [
       "<div class=\"krn-spql\"><div class=\"magic\">Endpoint set to: https://rdf.metanetx.org/sparql</div><div class=\"magic\">Request format: JSON</div></div>"
      ],
      "text/plain": [
       "Endpoint set to: https://rdf.metanetx.org/sparql\n",
       "Request format: JSON\n"
      ]
     },
     "metadata": {},
     "output_type": "display_data"
    },
    {
     "data": {
      "text/html": [
       "<div class=\"krn-spql\"><table><tr class=hdr><th>protein</th>\n",
       "<th>locus_name</th>\n",
       "<th>reac_label</th></tr><tr class=odd><td class=val><a href=\"http://purl.uniprot.org/uniprot/Q185M4\" target=\"_other\">http://purl.uniprot.org/uniprot/Q185M4</a></td>\n",
       "<td class=val>CD630_23490</td>\n",
       "<td class=val>mnxr157884c3</td></tr><tr class=even><td class=val><a href=\"http://purl.uniprot.org/uniprot/Q185M4\" target=\"_other\">http://purl.uniprot.org/uniprot/Q185M4</a></td>\n",
       "<td class=val>CD630_23490</td>\n",
       "<td class=val>mnxr162774c3</td></tr><tr class=odd><td class=val><a href=\"http://purl.uniprot.org/uniprot/Q185M3\" target=\"_other\">http://purl.uniprot.org/uniprot/Q185M3</a></td>\n",
       "<td class=val>CD630_23510</td>\n",
       "<td class=val>mnxr157884c3</td></tr><tr class=even><td class=val><a href=\"http://purl.uniprot.org/uniprot/Q185M3\" target=\"_other\">http://purl.uniprot.org/uniprot/Q185M3</a></td>\n",
       "<td class=val>CD630_23510</td>\n",
       "<td class=val>mnxr162774c3</td></tr><tr class=odd><td class=val><a href=\"http://purl.uniprot.org/uniprot/Q185M6\" target=\"_other\">http://purl.uniprot.org/uniprot/Q185M6</a></td>\n",
       "<td class=val>CD630_23520</td>\n",
       "<td class=val>mnxr157884c3</td></tr><tr class=even><td class=val><a href=\"http://purl.uniprot.org/uniprot/Q185M6\" target=\"_other\">http://purl.uniprot.org/uniprot/Q185M6</a></td>\n",
       "<td class=val>CD630_23520</td>\n",
       "<td class=val>mnxr162774c3</td></tr><tr class=odd><td class=val><a href=\"http://purl.uniprot.org/uniprot/Q185M5\" target=\"_other\">http://purl.uniprot.org/uniprot/Q185M5</a></td>\n",
       "<td class=val>CD630_23540</td>\n",
       "<td class=val>mnxr157884c3</td></tr><tr class=even><td class=val><a href=\"http://purl.uniprot.org/uniprot/Q185M9\" target=\"_other\">http://purl.uniprot.org/uniprot/Q185M9</a></td>\n",
       "<td class=val>CD630_23570</td>\n",
       "<td class=val>mnxr157884c3</td></tr><tr class=odd><td class=val><a href=\"http://purl.uniprot.org/uniprot/Q185M9\" target=\"_other\">http://purl.uniprot.org/uniprot/Q185M9</a></td>\n",
       "<td class=val>CD630_23570</td>\n",
       "<td class=val>mnxr162774c3</td></tr><tr class=even><td class=val><a href=\"http://purl.uniprot.org/uniprot/Q185M1\" target=\"_other\">http://purl.uniprot.org/uniprot/Q185M1</a></td>\n",
       "<td class=val>CD630_23480</td>\n",
       "<td class=val>mnxr157884c3</td></tr><tr class=odd><td class=val><a href=\"http://purl.uniprot.org/uniprot/Q185M1\" target=\"_other\">http://purl.uniprot.org/uniprot/Q185M1</a></td>\n",
       "<td class=val>CD630_23480</td>\n",
       "<td class=val>mnxr162774c3</td></tr></table><div class=\"tinfo\">Total: 11, Shown: 11</div></div>"
      ]
     },
     "metadata": {},
     "output_type": "display_data"
    }
   ],
   "source": [
    "%endpoint https://rdf.metanetx.org/sparql\n",
    "%format JSON\n",
    "\n",
    "PREFIX mnx: <https://rdf.metanetx.org/schema/>\n",
    "PREFIX core: <http://purl.uniprot.org/core/>\n",
    "PREFIX taxon: <http://purl.uniprot.org/taxonomy/>\n",
    "\n",
    "SELECT DISTINCT ?protein ?locus_name ?reac_label \n",
    "WHERE\n",
    "{\n",
    "    service <http://sparql.uniprot.org/sparql> {\n",
    "        select distinct ?protein ?locus_name \n",
    "           WHERE{\n",
    "               ?protein a core:Protein .\n",
    "               ?protein core:organism taxon:272563 .\n",
    "               ?protein core:encodedBy ?gene . \n",
    "               ?gene core:locusName ?locus_name .\n",
    "               ?protein rdfs:label ?activity .\n",
    "               FILTER regex( ?activity, 'glycine reductase','i') .\n",
    "                }\n",
    "    \n",
    "    }\n",
    "      service <https://rdf.metanetx.org/sparql> {\n",
    "         select distinct ?protein ?reac_label\n",
    "           WHERE{ \n",
    "              ?pept mnx:peptXref ?protein .\n",
    "              ?cata mnx:pept ?pept ;\n",
    "                  rdfs:label ?cata_label .\n",
    "              ?gpr mnx:cata ?cata ;\n",
    "                  mnx:reac ?reac .\n",
    "              ?reac rdfs:label ?reac_label ;\n",
    "            rdfs:comment ?reac_eq .\n",
    "              OPTIONAL{ ?reac mnx:mnxr ?MNXR }\n",
    "            }\n",
    "        }\n",
    "    }"
   ]
  }
 ],
 "metadata": {
  "kernelspec": {
   "display_name": "SPARQL",
   "language": "sparql",
   "name": "sparql"
  },
  "language_info": {
   "codemirror_mode": {
    "name": "sparql"
   },
   "mimetype": "application/sparql-query",
   "name": "sparql",
   "pygments_lexer": "sparql-nb"
  }
 },
 "nbformat": 4,
 "nbformat_minor": 2
}
